{
 "cells": [
  {
   "cell_type": "markdown",
   "source": [
    "Done By -S.D.SUDHARSAN\r\n",
    "\r\n",
    "Resources : \r\n",
    "\r\n",
    "https://www.pyimagesearch.com/2017/09/11/object-detection-with-deep-learning-and-opencv/\r\n",
    "\r\n",
    "https://learnopencv.com/deep-learning-based-object-detection-using-yolov3-with-opencv-python-c/\r\n",
    "\r\n",
    "https://towardsdatascience.com/r-cnn-fast-r-cnn-faster-r-cnn-yolo-object-detection-algorithms-36d53571365e\r\n",
    "\r\n",
    "\r\n",
    "\r\n"
   ],
   "metadata": {}
  },
  {
   "cell_type": "code",
   "execution_count": 36,
   "source": [
    "import cv2 as cv\r\n",
    "import numpy as np"
   ],
   "outputs": [],
   "metadata": {}
  },
  {
   "cell_type": "code",
   "execution_count": 37,
   "source": [
    "confThreshold = 0.5\r\n",
    "nmsThreshold = 0.5"
   ],
   "outputs": [],
   "metadata": {}
  },
  {
   "cell_type": "code",
   "execution_count": 38,
   "source": [
    "def getOutputsNames(net):\r\n",
    "    layersNames = net.getLayerNames()\r\n",
    "    return [layersNames[i[0] - 1] for i in net.getUnconnectedOutLayers()]"
   ],
   "outputs": [],
   "metadata": {}
  },
  {
   "cell_type": "code",
   "execution_count": 39,
   "source": [
    "def postprocess(frame, outs):\r\n",
    "    frameHeight = frame.shape[0]\r\n",
    "    frameWidth = frame.shape[1]\r\n",
    "    classIds = []\r\n",
    "    confidences = []\r\n",
    "    boxes = []\r\n",
    "\r\n",
    "    for out in outs:\r\n",
    "        for detection in out:\r\n",
    "            scores = detection[5:]\r\n",
    "            classId = np.argmax(scores)\r\n",
    "            confidence = scores[classId]\r\n",
    "            if confidence > confThreshold:\r\n",
    "                center_x = int(detection[0] * frameWidth)\r\n",
    "                center_y = int(detection[1] * frameHeight)\r\n",
    "                width = int(detection[2] * frameWidth)\r\n",
    "                height = int(detection[3] * frameHeight)\r\n",
    "                left = int(center_x - width / 2)\r\n",
    "                top = int(center_y - height / 2)\r\n",
    "                classIds.append(classId)\r\n",
    "                confidences.append(float(confidence))\r\n",
    "                boxes.append([left, top, width, height])\r\n",
    "\r\n",
    "    indices = cv.dnn.NMSBoxes(boxes, confidences, confThreshold, nmsThreshold)\r\n",
    "    for i in indices:\r\n",
    "        i = i[0]\r\n",
    "        box = boxes[i]\r\n",
    "        left = box[0]\r\n",
    "        top = box[1]\r\n",
    "        width = box[2]\r\n",
    "        height = box[3]\r\n",
    "        color = (255,255,0)\r\n",
    "        if classIds[i] == 0:          # Blue if person\r\n",
    "            color = (255,0,0)\r\n",
    "        elif classIds[i] == 2:        # Green if car  \r\n",
    "            color = (0,255,0)\r\n",
    "        elif classIds[i] == 7:        # Red if Truck\r\n",
    "            color = (0,0,255)\r\n",
    "        \r\n",
    "        label = '%s:%s' %  (classes[classIds[i]],round(confidences[i]*100))\r\n",
    "        cv.putText(frame,label,(left,top-10),cv.FONT_HERSHEY_SIMPLEX,0.3,color,1)\r\n",
    "        cv.rectangle(frame, (left, top), (left+width, top+height),color, 2)"
   ],
   "outputs": [],
   "metadata": {}
  },
  {
   "cell_type": "code",
   "execution_count": 40,
   "source": [
    "classes = []\r\n",
    "with open(r\"C:\\\\Users\\\\sudha\\\\Downloads\\\\archive\\\\coco.names\") as f:\r\n",
    "    classes = f.read().rstrip('\\n').split('\\n')\r\n",
    "print(classes)"
   ],
   "outputs": [
    {
     "output_type": "stream",
     "name": "stdout",
     "text": [
      "['person', 'bicycle', 'car', 'motorbike', 'aeroplane', 'bus', 'train', 'truck', 'boat', 'traffic light', 'fire hydrant', 'stop sign', 'parking meter', 'bench', 'bird', 'cat', 'dog', 'horse', 'sheep', 'cow', 'elephant', 'bear', 'zebra', 'giraffe', 'backpack', 'umbrella', 'handbag', 'tie', 'suitcase', 'frisbee', 'skis', 'snowboard', 'sports ball', 'kite', 'baseball bat', 'baseball glove', 'skateboard', 'surfboard', 'tennis racket', 'bottle', 'wine glass', 'cup', 'fork', 'knife', 'spoon', 'bowl', 'banana', 'apple', 'sandwich', 'orange', 'broccoli', 'carrot', 'hot dog', 'pizza', 'donut', 'cake', 'chair', 'sofa', 'pottedplant', 'bed', 'diningtable', 'toilet', 'tvmonitor', 'laptop', 'mouse', 'remote', 'keyboard', 'cell phone', 'microwave', 'oven', 'toaster', 'sink', 'refrigerator', 'book', 'clock', 'vase', 'scissors', 'teddy bear', 'hair drier', 'toothbrush']\n"
     ]
    }
   ],
   "metadata": {}
  },
  {
   "cell_type": "code",
   "execution_count": 41,
   "source": [
    "modelConfiguration = \"C:\\\\Users\\\\sudha\\\\Downloads\\\\archive\\\\yolov3.cfg\"\r\n",
    "weights = \"C:\\\\Users\\\\sudha\\\\Downloads\\\\archive\\\\yolov3.weights\"\r\n",
    "net = cv.dnn.readNetFromDarknet(modelConfiguration,weights)\r\n",
    "net.setPreferableBackend(cv.dnn.DNN_BACKEND_OPENCV)\r\n",
    "net.setPreferableTarget(cv.dnn.DNN_TARGET_CPU)"
   ],
   "outputs": [],
   "metadata": {}
  },
  {
   "cell_type": "code",
   "execution_count": 42,
   "source": [
    "cap = cv.VideoCapture(\"demo_Trim.mp4\")\r\n",
    "while cap.isOpened():\r\n",
    "    ret, frame = cap.read()\r\n",
    "    if not ret:\r\n",
    "        print(\"Can't receive frame (stream end?). Exiting ...\")\r\n",
    "        break\r\n",
    "    blob = cv.dnn.blobFromImage(frame,1/225,(416,416),[0,0,0],1)\r\n",
    "    net.setInput(blob)\r\n",
    "    outs = net.forward(getOutputsNames(net))\r\n",
    "    postprocess(frame, outs)\r\n",
    "\r\n",
    "    cv.imshow(\"frame\",frame)\r\n",
    "    if cv.waitKey(100) == 27:\r\n",
    "        break\r\n",
    "cap.release()\r\n",
    "cv.destroyAllWindows()\r\n",
    "    "
   ],
   "outputs": [],
   "metadata": {}
  }
 ],
 "metadata": {
  "orig_nbformat": 4,
  "language_info": {
   "name": "python",
   "version": "3.8.6",
   "mimetype": "text/x-python",
   "codemirror_mode": {
    "name": "ipython",
    "version": 3
   },
   "pygments_lexer": "ipython3",
   "nbconvert_exporter": "python",
   "file_extension": ".py"
  },
  "kernelspec": {
   "name": "python3",
   "display_name": "Python 3.8.6 64-bit"
  },
  "interpreter": {
   "hash": "a8cad57d2ef24d8bc0f799a33739dcafe360e5d9a85f3c3e1a89d2d1164fbe48"
  }
 },
 "nbformat": 4,
 "nbformat_minor": 2
}